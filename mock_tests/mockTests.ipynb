{
 "cells": [
  {
   "cell_type": "markdown",
   "metadata": {},
   "source": [
    "### Used for understanding the Mock Package"
   ]
  },
  {
   "cell_type": "code",
   "execution_count": 1,
   "metadata": {},
   "outputs": [
    {
     "data": {
      "text/plain": [
       "<Mock id='139837561060496'>"
      ]
     },
     "execution_count": 1,
     "metadata": {},
     "output_type": "execute_result"
    }
   ],
   "source": [
    "from unittest.mock import Mock\n",
    "\n",
    "mock = Mock()\n",
    "\n",
    "mock"
   ]
  },
  {
   "cell_type": "code",
   "execution_count": null,
   "metadata": {},
   "outputs": [],
   "source": [
    "def add(t):\n",
    "    return 50 + t\n",
    "\n",
    "result = add(mock)"
   ]
  },
  {
   "cell_type": "code",
   "execution_count": 3,
   "metadata": {},
   "outputs": [
    {
     "data": {
      "text/plain": [
       "<Mock name='mock.add()' id='139837612218896'>"
      ]
     },
     "execution_count": 3,
     "metadata": {},
     "output_type": "execute_result"
    }
   ],
   "source": [
    "mock.add()"
   ]
  },
  {
   "cell_type": "code",
   "execution_count": 4,
   "metadata": {},
   "outputs": [
    {
     "data": {
      "text/plain": [
       "<Mock name='mock.value' id='139837318557328'>"
      ]
     },
     "execution_count": 4,
     "metadata": {},
     "output_type": "execute_result"
    }
   ],
   "source": [
    "mock.value"
   ]
  },
  {
   "cell_type": "markdown",
   "metadata": {},
   "source": [
    "Unlike the real dumps(), this mocked method requires no arguments. In fact, it will accept any arguments that you pass to it.\n",
    "\n",
    "The return value of dumps() is also a Mock. The capability of Mock to recursively define other mocks allows for you to use mocks in complex situations:"
   ]
  },
  {
   "cell_type": "code",
   "execution_count": 5,
   "metadata": {},
   "outputs": [
    {
     "data": {
      "text/plain": [
       "<Mock name='mock.loads().get()' id='139837320333264'>"
      ]
     },
     "execution_count": 5,
     "metadata": {},
     "output_type": "execute_result"
    }
   ],
   "source": [
    "json = Mock()\n",
    "\n",
    "json.loads('{\"key\":\"val\"}').get('k')"
   ]
  },
  {
   "cell_type": "markdown",
   "metadata": {},
   "source": [
    "**Mock instances store data on how you used them.** \n",
    "\n",
    "For instance, you can see if you called a method, how you called the method, and so on. There are two main ways to use this information."
   ]
  },
  {
   "cell_type": "markdown",
   "metadata": {},
   "source": [
    "**First, you can assert that your program used an object as you expected:**"
   ]
  },
  {
   "cell_type": "code",
   "execution_count": 8,
   "metadata": {},
   "outputs": [],
   "source": [
    "json.loads.assert_called()\n",
    "json.loads.assert_called_once()\n",
    "json.loads.assert_called_with('{\"key\":\"val\"}')"
   ]
  },
  {
   "cell_type": "markdown",
   "metadata": {},
   "source": [
    "**Second, you can view special attributes to understand how your application used an object:**"
   ]
  },
  {
   "cell_type": "code",
   "execution_count": 9,
   "metadata": {},
   "outputs": [
    {
     "data": {
      "text/plain": [
       "call('{\"key\":\"val\"}')"
      ]
     },
     "execution_count": 9,
     "metadata": {},
     "output_type": "execute_result"
    }
   ],
   "source": [
    "json.loads.call_args"
   ]
  },
  {
   "cell_type": "code",
   "execution_count": 10,
   "metadata": {},
   "outputs": [
    {
     "data": {
      "text/plain": [
       "1"
      ]
     },
     "execution_count": 10,
     "metadata": {},
     "output_type": "execute_result"
    }
   ],
   "source": [
    "json.loads.call_count"
   ]
  },
  {
   "cell_type": "code",
   "execution_count": 11,
   "metadata": {},
   "outputs": [
    {
     "data": {
      "text/plain": [
       "[call.loads('{\"key\":\"val\"}')]"
      ]
     },
     "execution_count": 11,
     "metadata": {},
     "output_type": "execute_result"
    }
   ],
   "source": [
    "json.method_calls"
   ]
  },
  {
   "cell_type": "code",
   "execution_count": 12,
   "metadata": {},
   "outputs": [
    {
     "data": {
      "text/plain": [
       "[call('{\"key\":\"val\"}')]"
      ]
     },
     "execution_count": 12,
     "metadata": {},
     "output_type": "execute_result"
    }
   ],
   "source": [
    "json.loads.call_args_list"
   ]
  },
  {
   "cell_type": "code",
   "execution_count": 14,
   "metadata": {},
   "outputs": [
    {
     "ename": "AssertionError",
     "evalue": "",
     "output_type": "error",
     "traceback": [
      "\u001b[0;31m---------------------------------------------------------------------------\u001b[0m",
      "\u001b[0;31mAssertionError\u001b[0m                            Traceback (most recent call last)",
      "\u001b[1;32m/home/kamal/gitfolders/freelance_pjts/inter_delivery/Charles_judylegal/mockTests.ipynb Cell 16\u001b[0m line \u001b[0;36m7\n\u001b[1;32m      <a href='vscode-notebook-cell:/home/kamal/gitfolders/freelance_pjts/inter_delivery/Charles_judylegal/mockTests.ipynb#X23sZmlsZQ%3D%3D?line=3'>4</a>\u001b[0m     today \u001b[39m=\u001b[39m datetime\u001b[39m.\u001b[39mtoday()\n\u001b[1;32m      <a href='vscode-notebook-cell:/home/kamal/gitfolders/freelance_pjts/inter_delivery/Charles_judylegal/mockTests.ipynb#X23sZmlsZQ%3D%3D?line=4'>5</a>\u001b[0m     \u001b[39mreturn\u001b[39;00m (\u001b[39m0\u001b[39m \u001b[39m<\u001b[39m\u001b[39m=\u001b[39m today\u001b[39m.\u001b[39mweekday() \u001b[39m<\u001b[39m \u001b[39m5\u001b[39m)\n\u001b[0;32m----> <a href='vscode-notebook-cell:/home/kamal/gitfolders/freelance_pjts/inter_delivery/Charles_judylegal/mockTests.ipynb#X23sZmlsZQ%3D%3D?line=6'>7</a>\u001b[0m \u001b[39massert\u001b[39;00m is_weekday()\n",
      "\u001b[0;31mAssertionError\u001b[0m: "
     ]
    }
   ],
   "source": [
    "from datetime import datetime\n",
    "\n",
    "def is_weekday():\n",
    "    today = datetime.today()\n",
    "    return (0 <= today.weekday() < 5)\n",
    "\n",
    "assert is_weekday()"
   ]
  },
  {
   "cell_type": "markdown",
   "metadata": {},
   "source": [
    "**writing tests, it is important to ensure that the results are predictable. You can use Mock to eliminate uncertainty from your code during testing**\n",
    "\n",
    "In above case the tests will fail depending on day it is run, which is un-predictable"
   ]
  },
  {
   "cell_type": "code",
   "execution_count": 16,
   "metadata": {},
   "outputs": [],
   "source": [
    "tuesday = datetime(year=2023,month=9,day=26)\n",
    "saturday = datetime(year=2023,month=9,day=23)"
   ]
  },
  {
   "cell_type": "code",
   "execution_count": 24,
   "metadata": {},
   "outputs": [
    {
     "data": {
      "text/plain": [
       "datetime.datetime(2023, 9, 26, 0, 0)"
      ]
     },
     "execution_count": 24,
     "metadata": {},
     "output_type": "execute_result"
    }
   ],
   "source": [
    "tuesday"
   ]
  },
  {
   "cell_type": "code",
   "execution_count": 22,
   "metadata": {},
   "outputs": [],
   "source": [
    "# mocking datetime itself to control date\n",
    "datetime = Mock()"
   ]
  },
  {
   "cell_type": "code",
   "execution_count": 18,
   "metadata": {},
   "outputs": [],
   "source": [
    "import datetime\n",
    "def is_weekday():\n",
    "    today = datetime.datetime.today()\n",
    "    return (0 <= today.weekday() <5)"
   ]
  },
  {
   "cell_type": "code",
   "execution_count": 23,
   "metadata": {},
   "outputs": [
    {
     "ename": "TypeError",
     "evalue": "'<=' not supported between instances of 'int' and 'Mock'",
     "output_type": "error",
     "traceback": [
      "\u001b[0;31m---------------------------------------------------------------------------\u001b[0m",
      "\u001b[0;31mTypeError\u001b[0m                                 Traceback (most recent call last)",
      "\u001b[1;32m/home/kamal/gitfolders/freelance_pjts/inter_delivery/Charles_judylegal/mockTests.ipynb Cell 21\u001b[0m line \u001b[0;36m3\n\u001b[1;32m      <a href='vscode-notebook-cell:/home/kamal/gitfolders/freelance_pjts/inter_delivery/Charles_judylegal/mockTests.ipynb#X31sZmlsZQ%3D%3D?line=0'>1</a>\u001b[0m datetime\u001b[39m.\u001b[39mtoday\u001b[39m.\u001b[39mreturn_value \u001b[39m=\u001b[39m tuesday\n\u001b[0;32m----> <a href='vscode-notebook-cell:/home/kamal/gitfolders/freelance_pjts/inter_delivery/Charles_judylegal/mockTests.ipynb#X31sZmlsZQ%3D%3D?line=2'>3</a>\u001b[0m \u001b[39massert\u001b[39;00m is_weekday()\n",
      "\u001b[1;32m/home/kamal/gitfolders/freelance_pjts/inter_delivery/Charles_judylegal/mockTests.ipynb Cell 21\u001b[0m line \u001b[0;36m4\n\u001b[1;32m      <a href='vscode-notebook-cell:/home/kamal/gitfolders/freelance_pjts/inter_delivery/Charles_judylegal/mockTests.ipynb#X31sZmlsZQ%3D%3D?line=1'>2</a>\u001b[0m \u001b[39mdef\u001b[39;00m \u001b[39mis_weekday\u001b[39m():\n\u001b[1;32m      <a href='vscode-notebook-cell:/home/kamal/gitfolders/freelance_pjts/inter_delivery/Charles_judylegal/mockTests.ipynb#X31sZmlsZQ%3D%3D?line=2'>3</a>\u001b[0m     today \u001b[39m=\u001b[39m datetime\u001b[39m.\u001b[39mdatetime\u001b[39m.\u001b[39mtoday()\n\u001b[0;32m----> <a href='vscode-notebook-cell:/home/kamal/gitfolders/freelance_pjts/inter_delivery/Charles_judylegal/mockTests.ipynb#X31sZmlsZQ%3D%3D?line=3'>4</a>\u001b[0m     \u001b[39mreturn\u001b[39;00m (\u001b[39m0\u001b[39;49m \u001b[39m<\u001b[39;49m\u001b[39m=\u001b[39;49m today\u001b[39m.\u001b[39;49mweekday() \u001b[39m<\u001b[39;49m\u001b[39m5\u001b[39;49m)\n",
      "\u001b[0;31mTypeError\u001b[0m: '<=' not supported between instances of 'int' and 'Mock'"
     ]
    }
   ],
   "source": [
    "datetime.today.return_value = tuesday\n",
    "\n",
    "assert is_weekday()"
   ]
  },
  {
   "cell_type": "code",
   "execution_count": 25,
   "metadata": {},
   "outputs": [],
   "source": [
    "datetime.datetime.today.return_value = tuesday"
   ]
  },
  {
   "cell_type": "code",
   "execution_count": 26,
   "metadata": {},
   "outputs": [],
   "source": [
    "assert is_weekday()"
   ]
  },
  {
   "cell_type": "code",
   "execution_count": 27,
   "metadata": {},
   "outputs": [
    {
     "ename": "AssertionError",
     "evalue": "",
     "output_type": "error",
     "traceback": [
      "\u001b[0;31m---------------------------------------------------------------------------\u001b[0m",
      "\u001b[0;31mAssertionError\u001b[0m                            Traceback (most recent call last)",
      "\u001b[1;32m/home/kamal/gitfolders/freelance_pjts/inter_delivery/Charles_judylegal/mockTests.ipynb Cell 25\u001b[0m line \u001b[0;36m3\n\u001b[1;32m      <a href='vscode-notebook-cell:/home/kamal/gitfolders/freelance_pjts/inter_delivery/Charles_judylegal/mockTests.ipynb#X35sZmlsZQ%3D%3D?line=0'>1</a>\u001b[0m datetime\u001b[39m.\u001b[39mdatetime\u001b[39m.\u001b[39mtoday\u001b[39m.\u001b[39mreturn_value \u001b[39m=\u001b[39m saturday\n\u001b[0;32m----> <a href='vscode-notebook-cell:/home/kamal/gitfolders/freelance_pjts/inter_delivery/Charles_judylegal/mockTests.ipynb#X35sZmlsZQ%3D%3D?line=2'>3</a>\u001b[0m \u001b[39massert\u001b[39;00m is_weekday()\n",
      "\u001b[0;31mAssertionError\u001b[0m: "
     ]
    }
   ],
   "source": [
    "datetime.datetime.today.return_value = saturday\n",
    "\n",
    "assert is_weekday()"
   ]
  },
  {
   "cell_type": "markdown",
   "metadata": {},
   "source": [
    "today() is a mocked method. You’ve removed the inconsistency by assigning a specific day to the mock’s .return_value."
   ]
  },
  {
   "cell_type": "code",
   "execution_count": 29,
   "metadata": {},
   "outputs": [],
   "source": [
    "from requests.exceptions import Timeout\n",
    "from unittest.mock import Mock\n",
    "from unittest import TestCase\n",
    "\n",
    "# Mock requests to control its behaviour\n",
    "\n",
    "requests = Mock()\n",
    "\n",
    "def get_holidays():\n",
    "    r = requests.get('http://localhost/api/holidays')\n",
    "\n",
    "    if r.status_code == 200:\n",
    "        return r.json()\n",
    "\n",
    "    return None\n",
    "\n",
    "class TestCalendar(TestCase):\n",
    "\n",
    "    def test_get_holidays_timeout(self):\n",
    "\n",
    "        requests.get.side_effect = Timeout\n",
    "\n",
    "        with self.assertRaises(Timeout):\n",
    "            get_holidays()"
   ]
  },
  {
   "cell_type": "code",
   "execution_count": 30,
   "metadata": {},
   "outputs": [],
   "source": [
    "class TestCalendar(TestCase):\n",
    "\n",
    "    def log_request(self, url):\n",
    "        # Log a fake request for test output purposes\n",
    "        print(f'Making a request to {url}.')\n",
    "        print('Request received!')\n",
    "\n",
    "        # Create a new Mock to imitate a Response\n",
    "        response_mock = Mock()\n",
    "        response_mock.status_code = 200\n",
    "        response_mock.json.return_value = {\n",
    "            '12/25': 'Christmas',\n",
    "            '7/4': 'Independence Day',\n",
    "        }\n",
    "        return response_mock\n",
    "\n",
    "    def test_get_holidays_logging(self):\n",
    "        # Test a successful, logged request\n",
    "\n",
    "        requests.get.side_effect = self.log_request\n",
    "        #the above call is faked with the log_request\n",
    "\n",
    "        assert get_holidays()['12/25'] == 'Christmas'\n",
    "        "
   ]
  },
  {
   "cell_type": "markdown",
   "metadata": {},
   "source": [
    "### Configuring Mock\n",
    "\n",
    "You can configure a Mock to set up some of the object’s behaviors. Some configurable members include .side_effect, .return_value, and .name. You configure a Mock when you create one or when you use .configure_mock()."
   ]
  },
  {
   "cell_type": "code",
   "execution_count": 31,
   "metadata": {},
   "outputs": [],
   "source": [
    "m = Mock(name='trial mock')\n",
    "n = Mock(side_effect=Exception)\n",
    "x = Mock(return_value=9779)"
   ]
  },
  {
   "cell_type": "code",
   "execution_count": 41,
   "metadata": {},
   "outputs": [
    {
     "data": {
      "text/plain": [
       "9779"
      ]
     },
     "execution_count": 41,
     "metadata": {},
     "output_type": "execute_result"
    }
   ],
   "source": [
    "x.return_value"
   ]
  },
  {
   "cell_type": "code",
   "execution_count": 42,
   "metadata": {},
   "outputs": [],
   "source": [
    "# Verbose, old Mock\n",
    "response_mock = Mock()\n",
    "response_mock.json.return_value = {\n",
    "    '12/25': 'Christmas',\n",
    "    '7/4': 'Independence Day',\n",
    "}\n",
    "\n",
    "# Shiny, new .configure_mock()\n",
    "holidays = {'12/25': 'Christmas', '7/4': 'Independence Day'}\n",
    "response_mock = Mock(**{'json.return_value': holidays})"
   ]
  },
  {
   "cell_type": "markdown",
   "metadata": {},
   "source": [
    "###Monkey patching is the replacement of one object with another at runtime. "
   ]
  },
  {
   "cell_type": "markdown",
   "metadata": {},
   "source": [
    "Some reasons why you might prefer a context manager include the following:\n",
    "\n",
    "You only want to mock an object for a part of the test scope.\n",
    "\n",
    "You are already using too many decorators or parameters, which hurts your test’s readability."
   ]
  },
  {
   "cell_type": "code",
   "execution_count": 43,
   "metadata": {},
   "outputs": [],
   "source": [
    "from unittest.mock import patch\n",
    "\n",
    "class TestCalendar(TestCase):\n",
    "    def test_get_holidays_timeout(self):\n",
    "        with patch('my_calendar.requests') as mock_requests:\n",
    "            mock_requests.get.side_effect = Timeout\n",
    "            with self.assertRaises(Timeout):\n",
    "                get_holidays()\n",
    "                mock_requests.get.assert_called_once()"
   ]
  },
  {
   "cell_type": "markdown",
   "metadata": {},
   "source": [
    "Patching an Object’s Attributes\n",
    "\n",
    "Let’s say you only want to mock one method of an object instead of the entire object. You can do so by using patch.object()."
   ]
  },
  {
   "cell_type": "code",
   "execution_count": 44,
   "metadata": {},
   "outputs": [],
   "source": [
    "class TestCalendar(TestCase):\n",
    "    \n",
    "    @patch.object(requests, 'get', \n",
    "                  side_effect=requests.exceptions.Timeout)\n",
    "    def test_get_holidays_timeout(self, mock_requests):\n",
    "            with self.assertRaises(requests.exceptions.Timeout):\n",
    "                get_holidays()"
   ]
  },
  {
   "cell_type": "markdown",
   "metadata": {},
   "source": [
    "Learning how to use patch() is critical to mocking objects in other modules. However, sometimes it’s not obvious what the target object’s path is."
   ]
  },
  {
   "cell_type": "code",
   "execution_count": 45,
   "metadata": {},
   "outputs": [],
   "source": [
    "calendar = Mock(spec=['is_weekday','get_holidays'])"
   ]
  },
  {
   "cell_type": "code",
   "execution_count": 46,
   "metadata": {},
   "outputs": [
    {
     "data": {
      "text/plain": [
       "<Mock name='mock.is_weekday()' id='139837318493904'>"
      ]
     },
     "execution_count": 46,
     "metadata": {},
     "output_type": "execute_result"
    }
   ],
   "source": [
    "calendar.is_weekday()"
   ]
  },
  {
   "cell_type": "code",
   "execution_count": 47,
   "metadata": {},
   "outputs": [
    {
     "ename": "AttributeError",
     "evalue": "Mock object has no attribute 'create_event'",
     "output_type": "error",
     "traceback": [
      "\u001b[0;31m---------------------------------------------------------------------------\u001b[0m",
      "\u001b[0;31mAttributeError\u001b[0m                            Traceback (most recent call last)",
      "\u001b[1;32m/home/kamal/gitfolders/freelance_pjts/inter_delivery/Charles_judylegal/mockTests.ipynb Cell 41\u001b[0m line \u001b[0;36m1\n\u001b[0;32m----> <a href='vscode-notebook-cell:/home/kamal/gitfolders/freelance_pjts/inter_delivery/Charles_judylegal/mockTests.ipynb#X61sZmlsZQ%3D%3D?line=0'>1</a>\u001b[0m calendar\u001b[39m.\u001b[39;49mcreate_event()\n",
      "File \u001b[0;32m/usr/lib/python3.11/unittest/mock.py:653\u001b[0m, in \u001b[0;36mNonCallableMock.__getattr__\u001b[0;34m(self, name)\u001b[0m\n\u001b[1;32m    651\u001b[0m \u001b[39melif\u001b[39;00m \u001b[39mself\u001b[39m\u001b[39m.\u001b[39m_mock_methods \u001b[39mis\u001b[39;00m \u001b[39mnot\u001b[39;00m \u001b[39mNone\u001b[39;00m:\n\u001b[1;32m    652\u001b[0m     \u001b[39mif\u001b[39;00m name \u001b[39mnot\u001b[39;00m \u001b[39min\u001b[39;00m \u001b[39mself\u001b[39m\u001b[39m.\u001b[39m_mock_methods \u001b[39mor\u001b[39;00m name \u001b[39min\u001b[39;00m _all_magics:\n\u001b[0;32m--> 653\u001b[0m         \u001b[39mraise\u001b[39;00m \u001b[39mAttributeError\u001b[39;00m(\u001b[39m\"\u001b[39m\u001b[39mMock object has no attribute \u001b[39m\u001b[39m%r\u001b[39;00m\u001b[39m\"\u001b[39m \u001b[39m%\u001b[39m name)\n\u001b[1;32m    654\u001b[0m \u001b[39melif\u001b[39;00m _is_magic(name):\n\u001b[1;32m    655\u001b[0m     \u001b[39mraise\u001b[39;00m \u001b[39mAttributeError\u001b[39;00m(name)\n",
      "\u001b[0;31mAttributeError\u001b[0m: Mock object has no attribute 'create_event'"
     ]
    }
   ],
   "source": [
    "calendar.create_event()"
   ]
  },
  {
   "cell_type": "code",
   "execution_count": 1,
   "metadata": {},
   "outputs": [],
   "source": [
    "import my_functions\n",
    "\n",
    "from unittest.mock import Mock\n",
    "\n",
    "cale = Mock(spec=my_functions)"
   ]
  },
  {
   "cell_type": "code",
   "execution_count": 3,
   "metadata": {},
   "outputs": [
    {
     "ename": "AttributeError",
     "evalue": "Mock object has no attribute 'create_event'",
     "output_type": "error",
     "traceback": [
      "\u001b[0;31m---------------------------------------------------------------------------\u001b[0m",
      "\u001b[0;31mAttributeError\u001b[0m                            Traceback (most recent call last)",
      "\u001b[1;32m/home/kamal/gitfolders/freelance_pjts/inter_delivery/Charles_judylegal/mockTests.ipynb Cell 43\u001b[0m line \u001b[0;36m1\n\u001b[0;32m----> <a href='vscode-notebook-cell:/home/kamal/gitfolders/freelance_pjts/inter_delivery/Charles_judylegal/mockTests.ipynb#X60sZmlsZQ%3D%3D?line=0'>1</a>\u001b[0m cale\u001b[39m.\u001b[39;49mcreate_event()\n",
      "File \u001b[0;32m/usr/lib/python3.11/unittest/mock.py:653\u001b[0m, in \u001b[0;36mNonCallableMock.__getattr__\u001b[0;34m(self, name)\u001b[0m\n\u001b[1;32m    651\u001b[0m \u001b[39melif\u001b[39;00m \u001b[39mself\u001b[39m\u001b[39m.\u001b[39m_mock_methods \u001b[39mis\u001b[39;00m \u001b[39mnot\u001b[39;00m \u001b[39mNone\u001b[39;00m:\n\u001b[1;32m    652\u001b[0m     \u001b[39mif\u001b[39;00m name \u001b[39mnot\u001b[39;00m \u001b[39min\u001b[39;00m \u001b[39mself\u001b[39m\u001b[39m.\u001b[39m_mock_methods \u001b[39mor\u001b[39;00m name \u001b[39min\u001b[39;00m _all_magics:\n\u001b[0;32m--> 653\u001b[0m         \u001b[39mraise\u001b[39;00m \u001b[39mAttributeError\u001b[39;00m(\u001b[39m\"\u001b[39m\u001b[39mMock object has no attribute \u001b[39m\u001b[39m%r\u001b[39;00m\u001b[39m\"\u001b[39m \u001b[39m%\u001b[39m name)\n\u001b[1;32m    654\u001b[0m \u001b[39melif\u001b[39;00m _is_magic(name):\n\u001b[1;32m    655\u001b[0m     \u001b[39mraise\u001b[39;00m \u001b[39mAttributeError\u001b[39;00m(name)\n",
      "\u001b[0;31mAttributeError\u001b[0m: Mock object has no attribute 'create_event'"
     ]
    }
   ],
   "source": [
    "cale.create_event()"
   ]
  },
  {
   "cell_type": "code",
   "execution_count": 4,
   "metadata": {},
   "outputs": [],
   "source": [
    "from unittest.mock import create_autospec\n",
    "\n",
    "cale = create_autospec(my_functions)"
   ]
  },
  {
   "cell_type": "code",
   "execution_count": 6,
   "metadata": {},
   "outputs": [
    {
     "data": {
      "text/plain": [
       "<MagicMock name='mock.get_holidays()' id='139740857034192'>"
      ]
     },
     "execution_count": 6,
     "metadata": {},
     "output_type": "execute_result"
    }
   ],
   "source": [
    "cale.get_holidays()"
   ]
  },
  {
   "cell_type": "code",
   "execution_count": 7,
   "metadata": {},
   "outputs": [
    {
     "ename": "AttributeError",
     "evalue": "Mock object has no attribute 'is_weekend'",
     "output_type": "error",
     "traceback": [
      "\u001b[0;31m---------------------------------------------------------------------------\u001b[0m",
      "\u001b[0;31mAttributeError\u001b[0m                            Traceback (most recent call last)",
      "\u001b[1;32m/home/kamal/gitfolders/freelance_pjts/inter_delivery/Charles_judylegal/mockTests.ipynb Cell 46\u001b[0m line \u001b[0;36m7\n\u001b[1;32m      <a href='vscode-notebook-cell:/home/kamal/gitfolders/freelance_pjts/inter_delivery/Charles_judylegal/mockTests.ipynb#X63sZmlsZQ%3D%3D?line=4'>5</a>\u001b[0m \u001b[39mwith\u001b[39;00m patch(\u001b[39m'\u001b[39m\u001b[39m__main__.my_functions\u001b[39m\u001b[39m'\u001b[39m,autospec\u001b[39m=\u001b[39m\u001b[39mTrue\u001b[39;00m) \u001b[39mas\u001b[39;00m cale:\n\u001b[1;32m      <a href='vscode-notebook-cell:/home/kamal/gitfolders/freelance_pjts/inter_delivery/Charles_judylegal/mockTests.ipynb#X63sZmlsZQ%3D%3D?line=5'>6</a>\u001b[0m     cale\u001b[39m.\u001b[39mget_holidays()\n\u001b[0;32m----> <a href='vscode-notebook-cell:/home/kamal/gitfolders/freelance_pjts/inter_delivery/Charles_judylegal/mockTests.ipynb#X63sZmlsZQ%3D%3D?line=6'>7</a>\u001b[0m     cale\u001b[39m.\u001b[39;49mis_weekend()\n",
      "File \u001b[0;32m/usr/lib/python3.11/unittest/mock.py:653\u001b[0m, in \u001b[0;36mNonCallableMock.__getattr__\u001b[0;34m(self, name)\u001b[0m\n\u001b[1;32m    651\u001b[0m \u001b[39melif\u001b[39;00m \u001b[39mself\u001b[39m\u001b[39m.\u001b[39m_mock_methods \u001b[39mis\u001b[39;00m \u001b[39mnot\u001b[39;00m \u001b[39mNone\u001b[39;00m:\n\u001b[1;32m    652\u001b[0m     \u001b[39mif\u001b[39;00m name \u001b[39mnot\u001b[39;00m \u001b[39min\u001b[39;00m \u001b[39mself\u001b[39m\u001b[39m.\u001b[39m_mock_methods \u001b[39mor\u001b[39;00m name \u001b[39min\u001b[39;00m _all_magics:\n\u001b[0;32m--> 653\u001b[0m         \u001b[39mraise\u001b[39;00m \u001b[39mAttributeError\u001b[39;00m(\u001b[39m\"\u001b[39m\u001b[39mMock object has no attribute \u001b[39m\u001b[39m%r\u001b[39;00m\u001b[39m\"\u001b[39m \u001b[39m%\u001b[39m name)\n\u001b[1;32m    654\u001b[0m \u001b[39melif\u001b[39;00m _is_magic(name):\n\u001b[1;32m    655\u001b[0m     \u001b[39mraise\u001b[39;00m \u001b[39mAttributeError\u001b[39;00m(name)\n",
      "\u001b[0;31mAttributeError\u001b[0m: Mock object has no attribute 'is_weekend'"
     ]
    }
   ],
   "source": [
    "import my_functions\n",
    "\n",
    "from unittest.mock import patch\n",
    "\n",
    "with patch('__main__.my_functions',autospec=True) as cale:\n",
    "    cale.get_holidays()\n",
    "    cale.is_weekend()"
   ]
  }
 ],
 "metadata": {
  "kernelspec": {
   "display_name": "jupyter_env",
   "language": "python",
   "name": "python3"
  },
  "language_info": {
   "codemirror_mode": {
    "name": "ipython",
    "version": 3
   },
   "file_extension": ".py",
   "mimetype": "text/x-python",
   "name": "python",
   "nbconvert_exporter": "python",
   "pygments_lexer": "ipython3",
   "version": "3.11.4"
  },
  "orig_nbformat": 4
 },
 "nbformat": 4,
 "nbformat_minor": 2
}
