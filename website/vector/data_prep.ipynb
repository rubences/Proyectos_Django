{
 "cells": [
  {
   "cell_type": "code",
   "execution_count": 2,
   "id": "46e9a07e-96db-44fc-9e14-b66580d20b24",
   "metadata": {},
   "outputs": [],
   "source": [
    "from langchain.vectorstores import FAISS\n",
    "from langchain.embeddings import SentenceTransformerEmbeddings\n",
    "from langchain.chains import RetrievalQAWithSourcesChain\n",
    "import pandas as pd"
   ]
  },
  {
   "cell_type": "code",
   "execution_count": 4,
   "id": "cde5ad2d-5b4f-4a60-8e83-3f0444107f99",
   "metadata": {},
   "outputs": [],
   "source": [
    "# load the youtube dataset\n",
    "data_path = \"/home/kamal/gitfolders/website/vector/selected_vid.csv\"\n",
    "vid_data = pd.read_csv(data_path)"
   ]
  },
  {
   "cell_type": "code",
   "execution_count": 5,
   "id": "706f65d5-0626-40be-9bce-63e53db90d39",
   "metadata": {},
   "outputs": [
    {
     "data": {
      "text/html": [
       "<div>\n",
       "<style scoped>\n",
       "    .dataframe tbody tr th:only-of-type {\n",
       "        vertical-align: middle;\n",
       "    }\n",
       "\n",
       "    .dataframe tbody tr th {\n",
       "        vertical-align: top;\n",
       "    }\n",
       "\n",
       "    .dataframe thead th {\n",
       "        text-align: right;\n",
       "    }\n",
       "</style>\n",
       "<table border=\"1\" class=\"dataframe\">\n",
       "  <thead>\n",
       "    <tr style=\"text-align: right;\">\n",
       "      <th></th>\n",
       "      <th>video_id</th>\n",
       "      <th>title</th>\n",
       "      <th>categoryId</th>\n",
       "      <th>thumbnail_link</th>\n",
       "      <th>description</th>\n",
       "    </tr>\n",
       "  </thead>\n",
       "  <tbody>\n",
       "    <tr>\n",
       "      <th>0</th>\n",
       "      <td>3C66w5Z0ixs</td>\n",
       "      <td>I ASKED HER TO BE MY GIRLFRIEND...</td>\n",
       "      <td>22.0</td>\n",
       "      <td>https://i.ytimg.com/vi/3C66w5Z0ixs/default.jpg</td>\n",
       "      <td>SUBSCRIBE to BRAWADIS ▶ http://bit.ly/Subscrib...</td>\n",
       "    </tr>\n",
       "    <tr>\n",
       "      <th>1</th>\n",
       "      <td>M9Pmf9AB4Mo</td>\n",
       "      <td>Apex Legends | Stories from the Outlands – “Th...</td>\n",
       "      <td>20.0</td>\n",
       "      <td>https://i.ytimg.com/vi/M9Pmf9AB4Mo/default.jpg</td>\n",
       "      <td>While running her own modding shop, Ramya Pare...</td>\n",
       "    </tr>\n",
       "  </tbody>\n",
       "</table>\n",
       "</div>"
      ],
      "text/plain": [
       "      video_id                                              title  categoryId  \\\n",
       "0  3C66w5Z0ixs                 I ASKED HER TO BE MY GIRLFRIEND...        22.0   \n",
       "1  M9Pmf9AB4Mo  Apex Legends | Stories from the Outlands – “Th...        20.0   \n",
       "\n",
       "                                   thumbnail_link  \\\n",
       "0  https://i.ytimg.com/vi/3C66w5Z0ixs/default.jpg   \n",
       "1  https://i.ytimg.com/vi/M9Pmf9AB4Mo/default.jpg   \n",
       "\n",
       "                                         description  \n",
       "0  SUBSCRIBE to BRAWADIS ▶ http://bit.ly/Subscrib...  \n",
       "1  While running her own modding shop, Ramya Pare...  "
      ]
     },
     "execution_count": 5,
     "metadata": {},
     "output_type": "execute_result"
    }
   ],
   "source": [
    "vid_data.head(2)"
   ]
  },
  {
   "cell_type": "code",
   "execution_count": 42,
   "id": "3d5c8acd-4043-4e11-b011-e348cb859b0d",
   "metadata": {},
   "outputs": [
    {
     "data": {
      "text/plain": [
       "(307, 5)"
      ]
     },
     "execution_count": 42,
     "metadata": {},
     "output_type": "execute_result"
    }
   ],
   "source": [
    "vid_data.shape"
   ]
  },
  {
   "cell_type": "code",
   "execution_count": 50,
   "id": "34ecbc5c-5c01-44b1-8f58-503202e9ab39",
   "metadata": {},
   "outputs": [],
   "source": [
    "vid_data = vid_data[~vid_data.description.isna()]"
   ]
  },
  {
   "cell_type": "code",
   "execution_count": 9,
   "id": "47b3677a-5e72-4538-8b27-59ffa3cdc940",
   "metadata": {},
   "outputs": [
    {
     "data": {
      "text/plain": [
       "True"
      ]
     },
     "execution_count": 9,
     "metadata": {},
     "output_type": "execute_result"
    }
   ],
   "source": [
    "isinstance('hi',str)"
   ]
  },
  {
   "cell_type": "code",
   "execution_count": 51,
   "id": "51b368db-5e0c-4133-a696-bc3b41c9cc0f",
   "metadata": {},
   "outputs": [
    {
     "data": {
      "text/html": [
       "<div>\n",
       "<style scoped>\n",
       "    .dataframe tbody tr th:only-of-type {\n",
       "        vertical-align: middle;\n",
       "    }\n",
       "\n",
       "    .dataframe tbody tr th {\n",
       "        vertical-align: top;\n",
       "    }\n",
       "\n",
       "    .dataframe thead th {\n",
       "        text-align: right;\n",
       "    }\n",
       "</style>\n",
       "<table border=\"1\" class=\"dataframe\">\n",
       "  <thead>\n",
       "    <tr style=\"text-align: right;\">\n",
       "      <th></th>\n",
       "      <th>video_id</th>\n",
       "      <th>title</th>\n",
       "      <th>categoryId</th>\n",
       "      <th>thumbnail_link</th>\n",
       "      <th>description</th>\n",
       "    </tr>\n",
       "  </thead>\n",
       "  <tbody>\n",
       "    <tr>\n",
       "      <th>1</th>\n",
       "      <td>M9Pmf9AB4Mo</td>\n",
       "      <td>Apex Legends | Stories from the Outlands – “Th...</td>\n",
       "      <td>20.0</td>\n",
       "      <td>https://i.ytimg.com/vi/M9Pmf9AB4Mo/default.jpg</td>\n",
       "      <td>While running her own modding shop, Ramya Pare...</td>\n",
       "    </tr>\n",
       "    <tr>\n",
       "      <th>2</th>\n",
       "      <td>J78aPJ3VyNs</td>\n",
       "      <td>I left youtube for a month and THIS is what ha...</td>\n",
       "      <td>24.0</td>\n",
       "      <td>https://i.ytimg.com/vi/J78aPJ3VyNs/default.jpg</td>\n",
       "      <td>I left youtube for a month and this is what ha...</td>\n",
       "    </tr>\n",
       "    <tr>\n",
       "      <th>3</th>\n",
       "      <td>kXLn3HkpjaA</td>\n",
       "      <td>XXL 2020 Freshman Class Revealed - Official An...</td>\n",
       "      <td>10.0</td>\n",
       "      <td>https://i.ytimg.com/vi/kXLn3HkpjaA/default.jpg</td>\n",
       "      <td>Subscribe to XXL → http://bit.ly/subscribe-xxl...</td>\n",
       "    </tr>\n",
       "    <tr>\n",
       "      <th>4</th>\n",
       "      <td>VIUo6yapDbc</td>\n",
       "      <td>Ultimate DIY Home Movie Theater for The LaBran...</td>\n",
       "      <td>26.0</td>\n",
       "      <td>https://i.ytimg.com/vi/VIUo6yapDbc/default.jpg</td>\n",
       "      <td>Transforming The LaBrant Family's empty white ...</td>\n",
       "    </tr>\n",
       "    <tr>\n",
       "      <th>5</th>\n",
       "      <td>w-aidBdvZo8</td>\n",
       "      <td>I Haven't Been Honest About My Injury.. Here's...</td>\n",
       "      <td>24.0</td>\n",
       "      <td>https://i.ytimg.com/vi/w-aidBdvZo8/default.jpg</td>\n",
       "      <td>Subscribe To My Channel - https://www.youtube....</td>\n",
       "    </tr>\n",
       "    <tr>\n",
       "      <th>...</th>\n",
       "      <td>...</td>\n",
       "      <td>...</td>\n",
       "      <td>...</td>\n",
       "      <td>...</td>\n",
       "      <td>...</td>\n",
       "    </tr>\n",
       "    <tr>\n",
       "      <th>302</th>\n",
       "      <td>5WjcDji3xYc</td>\n",
       "      <td>Honest Trailers | Avatar: The Last Airbender</td>\n",
       "      <td>1.0</td>\n",
       "      <td>https://i.ytimg.com/vi/5WjcDji3xYc/default.jpg</td>\n",
       "      <td>►►Subscribe to ScreenJunkies!► https://fandom....</td>\n",
       "    </tr>\n",
       "    <tr>\n",
       "      <th>303</th>\n",
       "      <td>AMXT1ok5UBg</td>\n",
       "      <td>THIS IS THE END.</td>\n",
       "      <td>22.0</td>\n",
       "      <td>https://i.ytimg.com/vi/AMXT1ok5UBg/default.jpg</td>\n",
       "      <td>THIS IS THE END.Shop on The RealReal and get $...</td>\n",
       "    </tr>\n",
       "    <tr>\n",
       "      <th>304</th>\n",
       "      <td>9nidKH8cM38</td>\n",
       "      <td>TAXI CAB SLAYER KILLS 'TO KNOW HOW IT FEELS'</td>\n",
       "      <td>27.0</td>\n",
       "      <td>https://i.ytimg.com/vi/9nidKH8cM38/default.jpg</td>\n",
       "      <td>The first 1000 people to click the link will g...</td>\n",
       "    </tr>\n",
       "    <tr>\n",
       "      <th>305</th>\n",
       "      <td>mLOe7vGI0YI</td>\n",
       "      <td>Beerus VS Sailor Galaxia (Dragon Ball VS Sailo...</td>\n",
       "      <td>24.0</td>\n",
       "      <td>https://i.ytimg.com/vi/mLOe7vGI0YI/default.jpg</td>\n",
       "      <td>They live for destruction, but now one must de...</td>\n",
       "    </tr>\n",
       "    <tr>\n",
       "      <th>306</th>\n",
       "      <td>DiQ2AieIo0Q</td>\n",
       "      <td>Strongest Women VS Strongest Fish</td>\n",
       "      <td>17.0</td>\n",
       "      <td>https://i.ytimg.com/vi/DiQ2AieIo0Q/default.jpg</td>\n",
       "      <td>In this episode of BlacktipH, I go fishing wit...</td>\n",
       "    </tr>\n",
       "  </tbody>\n",
       "</table>\n",
       "<p>162 rows × 5 columns</p>\n",
       "</div>"
      ],
      "text/plain": [
       "        video_id                                              title  \\\n",
       "1    M9Pmf9AB4Mo  Apex Legends | Stories from the Outlands – “Th...   \n",
       "2    J78aPJ3VyNs  I left youtube for a month and THIS is what ha...   \n",
       "3    kXLn3HkpjaA  XXL 2020 Freshman Class Revealed - Official An...   \n",
       "4    VIUo6yapDbc  Ultimate DIY Home Movie Theater for The LaBran...   \n",
       "5    w-aidBdvZo8  I Haven't Been Honest About My Injury.. Here's...   \n",
       "..           ...                                                ...   \n",
       "302  5WjcDji3xYc       Honest Trailers | Avatar: The Last Airbender   \n",
       "303  AMXT1ok5UBg                                   THIS IS THE END.   \n",
       "304  9nidKH8cM38       TAXI CAB SLAYER KILLS 'TO KNOW HOW IT FEELS'   \n",
       "305  mLOe7vGI0YI  Beerus VS Sailor Galaxia (Dragon Ball VS Sailo...   \n",
       "306  DiQ2AieIo0Q                  Strongest Women VS Strongest Fish   \n",
       "\n",
       "     categoryId                                  thumbnail_link  \\\n",
       "1          20.0  https://i.ytimg.com/vi/M9Pmf9AB4Mo/default.jpg   \n",
       "2          24.0  https://i.ytimg.com/vi/J78aPJ3VyNs/default.jpg   \n",
       "3          10.0  https://i.ytimg.com/vi/kXLn3HkpjaA/default.jpg   \n",
       "4          26.0  https://i.ytimg.com/vi/VIUo6yapDbc/default.jpg   \n",
       "5          24.0  https://i.ytimg.com/vi/w-aidBdvZo8/default.jpg   \n",
       "..          ...                                             ...   \n",
       "302         1.0  https://i.ytimg.com/vi/5WjcDji3xYc/default.jpg   \n",
       "303        22.0  https://i.ytimg.com/vi/AMXT1ok5UBg/default.jpg   \n",
       "304        27.0  https://i.ytimg.com/vi/9nidKH8cM38/default.jpg   \n",
       "305        24.0  https://i.ytimg.com/vi/mLOe7vGI0YI/default.jpg   \n",
       "306        17.0  https://i.ytimg.com/vi/DiQ2AieIo0Q/default.jpg   \n",
       "\n",
       "                                           description  \n",
       "1    While running her own modding shop, Ramya Pare...  \n",
       "2    I left youtube for a month and this is what ha...  \n",
       "3    Subscribe to XXL → http://bit.ly/subscribe-xxl...  \n",
       "4    Transforming The LaBrant Family's empty white ...  \n",
       "5    Subscribe To My Channel - https://www.youtube....  \n",
       "..                                                 ...  \n",
       "302  ►►Subscribe to ScreenJunkies!► https://fandom....  \n",
       "303  THIS IS THE END.Shop on The RealReal and get $...  \n",
       "304  The first 1000 people to click the link will g...  \n",
       "305  They live for destruction, but now one must de...  \n",
       "306  In this episode of BlacktipH, I go fishing wit...  \n",
       "\n",
       "[162 rows x 5 columns]"
      ]
     },
     "execution_count": 51,
     "metadata": {},
     "output_type": "execute_result"
    }
   ],
   "source": [
    "#lets see how many videos have description more than 500 chars?\n",
    "\n",
    "vid_data[vid_data.description.apply(lambda x: len(x) if isinstance(x,str) else 0) >= 500]\n",
    "\n",
    "#We can see around 160+ vids are having 500 or more characters "
   ]
  },
  {
   "cell_type": "code",
   "execution_count": 52,
   "id": "8d602c4b-ff8f-4c84-852c-414a580be2be",
   "metadata": {},
   "outputs": [],
   "source": [
    "#Its better to split the description and store them inside the FAISS store for better retrieval experience\n",
    "\n",
    "from langchain.text_splitter import RecursiveCharacterTextSplitter\n",
    "\n",
    "descrip_split = RecursiveCharacterTextSplitter(chunk_size=300, \n",
    "                                               chunk_overlap=0,\n",
    "                                              length_function=len,\n",
    "                                              add_start_index=True)"
   ]
  },
  {
   "cell_type": "code",
   "execution_count": 21,
   "id": "ec3dc482-4787-4123-93f0-7954f7d6d21c",
   "metadata": {},
   "outputs": [],
   "source": [
    "embedding = SentenceTransformerEmbeddings(model_name=\"sentence-transformers/all-MiniLM-L6-v2\")"
   ]
  },
  {
   "cell_type": "code",
   "execution_count": 53,
   "id": "f228ec8a-bf7e-4585-a71d-a3cbfa1b79b7",
   "metadata": {},
   "outputs": [],
   "source": [
    "vid_dict_array = vid_data.to_dict(orient='records')"
   ]
  },
  {
   "cell_type": "code",
   "execution_count": 54,
   "id": "440765ba-9a10-4d7d-809f-432527860b30",
   "metadata": {},
   "outputs": [
    {
     "data": {
      "text/plain": [
       "{'video_id': '3C66w5Z0ixs',\n",
       " 'title': 'I ASKED HER TO BE MY GIRLFRIEND...',\n",
       " 'categoryId': 22.0,\n",
       " 'thumbnail_link': 'https://i.ytimg.com/vi/3C66w5Z0ixs/default.jpg',\n",
       " 'description': 'SUBSCRIBE to BRAWADIS ▶ http://bit.ly/SubscribeToBrawadis\\r\\rFOLLOW ME ON SOCIAL\\r▶ Twitter: https://twitter.com/Brawadis\\r▶ Instagram: https://www.instagram.com/brawadis/\\r▶ Snapchat: brawadis\\r\\rHi! I’m Brandon Awadis and I like to make dope vlogs, pranks, reactions, challenges and basketball videos. Don’t forget to subscribe and come be a part of the BrawadSquad!'}"
      ]
     },
     "execution_count": 54,
     "metadata": {},
     "output_type": "execute_result"
    }
   ],
   "source": [
    "vid_dict_array[0]"
   ]
  },
  {
   "cell_type": "code",
   "execution_count": 56,
   "id": "b15a8ea2-9c8e-443c-b84a-7f1890acd4fb",
   "metadata": {},
   "outputs": [
    {
     "data": {
      "text/plain": [
       "[Document(page_content=\"I left youtube for a month and this is what happenedMY COFFEE COMPANY: https://twitter.com/TOTMCoffeeJoin the subreddit: https://www.reddit.com/r/jacksepticeye/MORE MEMES ► https://www.youtube.com/watch?v=wGdn6ldQTTg&list=PLMBYlcH3smRxmCZzsUyrxB0IyKSQAU0pPJacksepticeye's Funniest Home Videos:\", metadata={'source': 'I left youtube for a month and THIS is what happened.', 'start_index': 0}),\n",
       " Document(page_content='https://www.youtube.com/watch?v=VqfLcdpBasY&list=PLMBYlcH3smRxOk7Cp_V2ar3QDfvljWvSyEdited by: https://twitter.com/DaveDelirious►Twitter : https://twitter.com/Jack_Septic_Eye►Instagram: http://instagram.com/jacksepticeye', metadata={'source': 'I left youtube for a month and THIS is what happened.', 'start_index': 294})]"
      ]
     },
     "execution_count": 56,
     "metadata": {},
     "output_type": "execute_result"
    }
   ],
   "source": [
    "descrip_split.create_documents([vid_dict_array[2]['description']],metadatas=[{'source':vid_dict_array[2]['title']}])"
   ]
  },
  {
   "cell_type": "code",
   "execution_count": 55,
   "id": "21f31b96-ce22-4426-b1ad-72335377e41d",
   "metadata": {},
   "outputs": [],
   "source": [
    "documents = []\n",
    "\n",
    "for vid in vid_dict_array:\n",
    "    title = vid['title']\n",
    "    description = vid['description']\n",
    "    temp = descrip_split.create_documents([description],metadatas=[{'source':title}])\n",
    "    documents.extend(temp)"
   ]
  },
  {
   "cell_type": "code",
   "execution_count": 57,
   "id": "0b0b7bb0-32e8-43c8-8f46-0640713dfb2b",
   "metadata": {},
   "outputs": [],
   "source": [
    "vector_db = FAISS.from_documents(documents=documents,embedding=embedding)"
   ]
  },
  {
   "cell_type": "code",
   "execution_count": 58,
   "id": "77362447-cc5f-4392-ae9a-1a85190dd953",
   "metadata": {},
   "outputs": [],
   "source": [
    "vector_db.save_local('vector_db')"
   ]
  },
  {
   "cell_type": "code",
   "execution_count": 62,
   "id": "30473230-3a1c-4b7b-a1fa-7dd7491c154c",
   "metadata": {},
   "outputs": [],
   "source": [
    "load_db = FAISS.load_local(folder_path=\"vector_db\",embeddings=embedding)"
   ]
  },
  {
   "cell_type": "code",
   "execution_count": 59,
   "id": "c44c6e51-4ce0-4063-a252-a1056673995f",
   "metadata": {},
   "outputs": [],
   "source": [
    "vec_retriever = vector_db.as_retriever()"
   ]
  },
  {
   "cell_type": "code",
   "execution_count": 60,
   "id": "f91b10bb-8225-4a41-8838-5fe9ff273491",
   "metadata": {},
   "outputs": [
    {
     "data": {
      "text/plain": [
       "[Document(page_content='https://ijoc.org/index.php/ijoc/article/view/11777/2907https://apps.fas.usda.gov/newgainapi/api/report/downloadreportbyfilename?filename=Coffee%20Annual_Bogota_Colombia_5-14-2018.pdf Andy Jarvis https://link.springer.com/article/10.1007/s10584-012-0500-y Coffee is one of the most popular', metadata={'source': 'The global coffee crisis is coming', 'start_index': 749}),\n",
       " Document(page_content=\"changing. Now, experts estimate the amount of land that can sustain coffee will fall 50 percent by 2050. It's not just a crisis for consumers but for the millions who have made a livelihood out of growing coffee. Vox.com is a news website that helps you cut through the noise and understand what's\", metadata={'source': 'The global coffee crisis is coming', 'start_index': 1333}),\n",
       " Document(page_content=\"commodities on Earth. It's grown by nearly 125 million farmers, from Latin America to Africa to Asia. But as man-made climate change warms the atmosphere, the notoriously particular coffee plant is struggling. Places like Colombia, which once had the perfect climate to grow Arabica coffee, are\", metadata={'source': 'The global coffee crisis is coming', 'start_index': 1038}),\n",
       " Document(page_content='https://www.researchgate.net/publicat...Mike Hoffman https://fortune.com/2017/06/14/trump-paris-climate-change-agreement-coffee-prices/Christian Bunn et al. https://link.springer.com/article/10.1007/s10584-014-1306-xDavis et al., https://advances.sciencemag.org/content/5/1/eaav3473CABI', metadata={'source': 'The global coffee crisis is coming', 'start_index': 276})]"
      ]
     },
     "execution_count": 60,
     "metadata": {},
     "output_type": "execute_result"
    }
   ],
   "source": [
    "vector_db.similarity_search(\"Explain about Coffee\")"
   ]
  }
 ],
 "metadata": {
  "kernelspec": {
   "display_name": "Python 3 (ipykernel)",
   "language": "python",
   "name": "python3"
  },
  "language_info": {
   "codemirror_mode": {
    "name": "ipython",
    "version": 3
   },
   "file_extension": ".py",
   "mimetype": "text/x-python",
   "name": "python",
   "nbconvert_exporter": "python",
   "pygments_lexer": "ipython3",
   "version": "3.11.4"
  }
 },
 "nbformat": 4,
 "nbformat_minor": 5
}
